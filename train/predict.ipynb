{
 "cells": [
  {
   "cell_type": "code",
   "execution_count": null,
   "metadata": {},
   "outputs": [],
   "source": [
    "!pip install -r requirements.txt"
   ]
  },
  {
   "cell_type": "markdown",
   "metadata": {},
   "source": [
    "### Import thư viện"
   ]
  },
  {
   "cell_type": "code",
   "execution_count": 3,
   "metadata": {},
   "outputs": [],
   "source": [
    "import cv2\n",
    "import numpy as np\n",
    "from PIL import Image\n",
    "from torchvision import datasets\n",
    "import torchvision.transforms as transforms\n",
    "import torch\n",
    "from torch import nn"
   ]
  },
  {
   "cell_type": "code",
   "execution_count": 4,
   "metadata": {},
   "outputs": [
    {
     "name": "stdout",
     "output_type": "stream",
     "text": [
      "2.1.1+cu121\n",
      "cuda\n"
     ]
    }
   ],
   "source": [
    "print(torch.__version__)\n",
    "\n",
    "device = 'cuda' if torch.cuda.is_available() else 'cpu'\n",
    "print(device)"
   ]
  },
  {
   "cell_type": "code",
   "execution_count": 9,
   "metadata": {},
   "outputs": [],
   "source": [
    "# import mediapipe as mp\n",
    "\n",
    "# mp_hands = mp.solutions.hands\n",
    "# mp_drawing = mp.solutions.drawing_utils \n",
    "# mp_drawing_styles = mp.solutions.drawing_styles\n",
    "# hands = mp_hands.Hands(static_image_mode=True, min_detection_confidence=0.9)"
   ]
  },
  {
   "cell_type": "code",
   "execution_count": 10,
   "metadata": {},
   "outputs": [],
   "source": [
    "# class_names = np.array(['A', 'B', 'C', 'D', 'E', 'F', 'G', 'H', 'I', 'J', 'K', 'L', 'M',\n",
    "#                       'N', 'O', 'P', 'Q', 'R', 'S', 'T', 'U', 'V', 'W', 'X', 'Y', 'Z',\n",
    "#                       'del', 'nothing', 'space'])\n",
    "\n",
    "# data_transform = transforms.Compose([\n",
    "#                 transforms.Resize(size = (128, 128)),         # Resize our images to 224x224\n",
    "#                 transforms.ToTensor()\n",
    "#             ])"
   ]
  },
  {
   "cell_type": "markdown",
   "metadata": {},
   "source": [
    "### Khai báo đường dẫn"
   ]
  },
  {
   "cell_type": "code",
   "execution_count": 7,
   "metadata": {},
   "outputs": [],
   "source": [
    "from pathlib import Path\n",
    "\n",
    "MODEL_PATH = Path(\"models\")\n",
    "MODEL_PATH.mkdir(parents=True,\n",
    "                 exist_ok=True)\n",
    "\n",
    "# Create model save path\n",
    "MODEL_NAME = \"ASL_HandSignLang_EfficientNetB0.pth\"\n",
    "MODEL_SAVE_PATH = MODEL_PATH / MODEL_NAME"
   ]
  },
  {
   "cell_type": "markdown",
   "metadata": {},
   "source": [
    "### Khai báo kiến trúc của Efficientnet-b0"
   ]
  },
  {
   "cell_type": "code",
   "execution_count": 11,
   "metadata": {},
   "outputs": [
    {
     "name": "stdout",
     "output_type": "stream",
     "text": [
      "Loaded pretrained weights for efficientnet-b0\n"
     ]
    },
    {
     "data": {
      "text/plain": [
       "============================================================================================================================================\n",
       "Layer (type (var_name))                                      Input Shape          Output Shape         Param #              Trainable\n",
       "============================================================================================================================================\n",
       "EfficientNet (EfficientNet)                                  [192, 3, 128, 128]   [192, 29]            --                   True\n",
       "├─Conv2dStaticSamePadding (_conv_stem)                       [192, 3, 128, 128]   [192, 32, 64, 64]    864                  True\n",
       "│    └─ZeroPad2d (static_padding)                            [192, 3, 128, 128]   [192, 3, 129, 129]   --                   --\n",
       "├─BatchNorm2d (_bn0)                                         [192, 32, 64, 64]    [192, 32, 64, 64]    64                   True\n",
       "├─MemoryEfficientSwish (_swish)                              [192, 32, 64, 64]    [192, 32, 64, 64]    --                   --\n",
       "├─ModuleList (_blocks)                                       --                   --                   --                   True\n",
       "│    └─MBConvBlock (0)                                       [192, 32, 64, 64]    [192, 16, 64, 64]    --                   True\n",
       "│    │    └─Conv2dStaticSamePadding (_depthwise_conv)        [192, 32, 64, 64]    [192, 32, 64, 64]    288                  True\n",
       "│    │    └─BatchNorm2d (_bn1)                               [192, 32, 64, 64]    [192, 32, 64, 64]    64                   True\n",
       "│    │    └─MemoryEfficientSwish (_swish)                    [192, 32, 64, 64]    [192, 32, 64, 64]    --                   --\n",
       "│    │    └─Conv2dStaticSamePadding (_se_reduce)             [192, 32, 1, 1]      [192, 8, 1, 1]       264                  True\n",
       "│    │    └─MemoryEfficientSwish (_swish)                    [192, 8, 1, 1]       [192, 8, 1, 1]       --                   --\n",
       "│    │    └─Conv2dStaticSamePadding (_se_expand)             [192, 8, 1, 1]       [192, 32, 1, 1]      288                  True\n",
       "│    │    └─Conv2dStaticSamePadding (_project_conv)          [192, 32, 64, 64]    [192, 16, 64, 64]    512                  True\n",
       "│    │    └─BatchNorm2d (_bn2)                               [192, 16, 64, 64]    [192, 16, 64, 64]    32                   True\n",
       "│    └─MBConvBlock (1)                                       [192, 16, 64, 64]    [192, 24, 32, 32]    --                   True\n",
       "│    │    └─Conv2dStaticSamePadding (_expand_conv)           [192, 16, 64, 64]    [192, 96, 64, 64]    1,536                True\n",
       "│    │    └─BatchNorm2d (_bn0)                               [192, 96, 64, 64]    [192, 96, 64, 64]    192                  True\n",
       "│    │    └─MemoryEfficientSwish (_swish)                    [192, 96, 64, 64]    [192, 96, 64, 64]    --                   --\n",
       "│    │    └─Conv2dStaticSamePadding (_depthwise_conv)        [192, 96, 64, 64]    [192, 96, 32, 32]    864                  True\n",
       "│    │    └─BatchNorm2d (_bn1)                               [192, 96, 32, 32]    [192, 96, 32, 32]    192                  True\n",
       "│    │    └─MemoryEfficientSwish (_swish)                    [192, 96, 32, 32]    [192, 96, 32, 32]    --                   --\n",
       "│    │    └─Conv2dStaticSamePadding (_se_reduce)             [192, 96, 1, 1]      [192, 4, 1, 1]       388                  True\n",
       "│    │    └─MemoryEfficientSwish (_swish)                    [192, 4, 1, 1]       [192, 4, 1, 1]       --                   --\n",
       "│    │    └─Conv2dStaticSamePadding (_se_expand)             [192, 4, 1, 1]       [192, 96, 1, 1]      480                  True\n",
       "│    │    └─Conv2dStaticSamePadding (_project_conv)          [192, 96, 32, 32]    [192, 24, 32, 32]    2,304                True\n",
       "│    │    └─BatchNorm2d (_bn2)                               [192, 24, 32, 32]    [192, 24, 32, 32]    48                   True\n",
       "│    └─MBConvBlock (2)                                       [192, 24, 32, 32]    [192, 24, 32, 32]    --                   True\n",
       "│    │    └─Conv2dStaticSamePadding (_expand_conv)           [192, 24, 32, 32]    [192, 144, 32, 32]   3,456                True\n",
       "│    │    └─BatchNorm2d (_bn0)                               [192, 144, 32, 32]   [192, 144, 32, 32]   288                  True\n",
       "│    │    └─MemoryEfficientSwish (_swish)                    [192, 144, 32, 32]   [192, 144, 32, 32]   --                   --\n",
       "│    │    └─Conv2dStaticSamePadding (_depthwise_conv)        [192, 144, 32, 32]   [192, 144, 32, 32]   1,296                True\n",
       "│    │    └─BatchNorm2d (_bn1)                               [192, 144, 32, 32]   [192, 144, 32, 32]   288                  True\n",
       "│    │    └─MemoryEfficientSwish (_swish)                    [192, 144, 32, 32]   [192, 144, 32, 32]   --                   --\n",
       "│    │    └─Conv2dStaticSamePadding (_se_reduce)             [192, 144, 1, 1]     [192, 6, 1, 1]       870                  True\n",
       "│    │    └─MemoryEfficientSwish (_swish)                    [192, 6, 1, 1]       [192, 6, 1, 1]       --                   --\n",
       "│    │    └─Conv2dStaticSamePadding (_se_expand)             [192, 6, 1, 1]       [192, 144, 1, 1]     1,008                True\n",
       "│    │    └─Conv2dStaticSamePadding (_project_conv)          [192, 144, 32, 32]   [192, 24, 32, 32]    3,456                True\n",
       "│    │    └─BatchNorm2d (_bn2)                               [192, 24, 32, 32]    [192, 24, 32, 32]    48                   True\n",
       "│    └─MBConvBlock (3)                                       [192, 24, 32, 32]    [192, 40, 16, 16]    --                   True\n",
       "│    │    └─Conv2dStaticSamePadding (_expand_conv)           [192, 24, 32, 32]    [192, 144, 32, 32]   3,456                True\n",
       "│    │    └─BatchNorm2d (_bn0)                               [192, 144, 32, 32]   [192, 144, 32, 32]   288                  True\n",
       "│    │    └─MemoryEfficientSwish (_swish)                    [192, 144, 32, 32]   [192, 144, 32, 32]   --                   --\n",
       "│    │    └─Conv2dStaticSamePadding (_depthwise_conv)        [192, 144, 32, 32]   [192, 144, 16, 16]   3,600                True\n",
       "│    │    └─BatchNorm2d (_bn1)                               [192, 144, 16, 16]   [192, 144, 16, 16]   288                  True\n",
       "│    │    └─MemoryEfficientSwish (_swish)                    [192, 144, 16, 16]   [192, 144, 16, 16]   --                   --\n",
       "│    │    └─Conv2dStaticSamePadding (_se_reduce)             [192, 144, 1, 1]     [192, 6, 1, 1]       870                  True\n",
       "│    │    └─MemoryEfficientSwish (_swish)                    [192, 6, 1, 1]       [192, 6, 1, 1]       --                   --\n",
       "│    │    └─Conv2dStaticSamePadding (_se_expand)             [192, 6, 1, 1]       [192, 144, 1, 1]     1,008                True\n",
       "│    │    └─Conv2dStaticSamePadding (_project_conv)          [192, 144, 16, 16]   [192, 40, 16, 16]    5,760                True\n",
       "│    │    └─BatchNorm2d (_bn2)                               [192, 40, 16, 16]    [192, 40, 16, 16]    80                   True\n",
       "│    └─MBConvBlock (4)                                       [192, 40, 16, 16]    [192, 40, 16, 16]    --                   True\n",
       "│    │    └─Conv2dStaticSamePadding (_expand_conv)           [192, 40, 16, 16]    [192, 240, 16, 16]   9,600                True\n",
       "│    │    └─BatchNorm2d (_bn0)                               [192, 240, 16, 16]   [192, 240, 16, 16]   480                  True\n",
       "│    │    └─MemoryEfficientSwish (_swish)                    [192, 240, 16, 16]   [192, 240, 16, 16]   --                   --\n",
       "│    │    └─Conv2dStaticSamePadding (_depthwise_conv)        [192, 240, 16, 16]   [192, 240, 16, 16]   6,000                True\n",
       "│    │    └─BatchNorm2d (_bn1)                               [192, 240, 16, 16]   [192, 240, 16, 16]   480                  True\n",
       "│    │    └─MemoryEfficientSwish (_swish)                    [192, 240, 16, 16]   [192, 240, 16, 16]   --                   --\n",
       "│    │    └─Conv2dStaticSamePadding (_se_reduce)             [192, 240, 1, 1]     [192, 10, 1, 1]      2,410                True\n",
       "│    │    └─MemoryEfficientSwish (_swish)                    [192, 10, 1, 1]      [192, 10, 1, 1]      --                   --\n",
       "│    │    └─Conv2dStaticSamePadding (_se_expand)             [192, 10, 1, 1]      [192, 240, 1, 1]     2,640                True\n",
       "│    │    └─Conv2dStaticSamePadding (_project_conv)          [192, 240, 16, 16]   [192, 40, 16, 16]    9,600                True\n",
       "│    │    └─BatchNorm2d (_bn2)                               [192, 40, 16, 16]    [192, 40, 16, 16]    80                   True\n",
       "│    └─MBConvBlock (5)                                       [192, 40, 16, 16]    [192, 80, 8, 8]      --                   True\n",
       "│    │    └─Conv2dStaticSamePadding (_expand_conv)           [192, 40, 16, 16]    [192, 240, 16, 16]   9,600                True\n",
       "│    │    └─BatchNorm2d (_bn0)                               [192, 240, 16, 16]   [192, 240, 16, 16]   480                  True\n",
       "│    │    └─MemoryEfficientSwish (_swish)                    [192, 240, 16, 16]   [192, 240, 16, 16]   --                   --\n",
       "│    │    └─Conv2dStaticSamePadding (_depthwise_conv)        [192, 240, 16, 16]   [192, 240, 8, 8]     2,160                True\n",
       "│    │    └─BatchNorm2d (_bn1)                               [192, 240, 8, 8]     [192, 240, 8, 8]     480                  True\n",
       "│    │    └─MemoryEfficientSwish (_swish)                    [192, 240, 8, 8]     [192, 240, 8, 8]     --                   --\n",
       "│    │    └─Conv2dStaticSamePadding (_se_reduce)             [192, 240, 1, 1]     [192, 10, 1, 1]      2,410                True\n",
       "│    │    └─MemoryEfficientSwish (_swish)                    [192, 10, 1, 1]      [192, 10, 1, 1]      --                   --\n",
       "│    │    └─Conv2dStaticSamePadding (_se_expand)             [192, 10, 1, 1]      [192, 240, 1, 1]     2,640                True\n",
       "│    │    └─Conv2dStaticSamePadding (_project_conv)          [192, 240, 8, 8]     [192, 80, 8, 8]      19,200               True\n",
       "│    │    └─BatchNorm2d (_bn2)                               [192, 80, 8, 8]      [192, 80, 8, 8]      160                  True\n",
       "│    └─MBConvBlock (6)                                       [192, 80, 8, 8]      [192, 80, 8, 8]      --                   True\n",
       "│    │    └─Conv2dStaticSamePadding (_expand_conv)           [192, 80, 8, 8]      [192, 480, 8, 8]     38,400               True\n",
       "│    │    └─BatchNorm2d (_bn0)                               [192, 480, 8, 8]     [192, 480, 8, 8]     960                  True\n",
       "│    │    └─MemoryEfficientSwish (_swish)                    [192, 480, 8, 8]     [192, 480, 8, 8]     --                   --\n",
       "│    │    └─Conv2dStaticSamePadding (_depthwise_conv)        [192, 480, 8, 8]     [192, 480, 8, 8]     4,320                True\n",
       "│    │    └─BatchNorm2d (_bn1)                               [192, 480, 8, 8]     [192, 480, 8, 8]     960                  True\n",
       "│    │    └─MemoryEfficientSwish (_swish)                    [192, 480, 8, 8]     [192, 480, 8, 8]     --                   --\n",
       "│    │    └─Conv2dStaticSamePadding (_se_reduce)             [192, 480, 1, 1]     [192, 20, 1, 1]      9,620                True\n",
       "│    │    └─MemoryEfficientSwish (_swish)                    [192, 20, 1, 1]      [192, 20, 1, 1]      --                   --\n",
       "│    │    └─Conv2dStaticSamePadding (_se_expand)             [192, 20, 1, 1]      [192, 480, 1, 1]     10,080               True\n",
       "│    │    └─Conv2dStaticSamePadding (_project_conv)          [192, 480, 8, 8]     [192, 80, 8, 8]      38,400               True\n",
       "│    │    └─BatchNorm2d (_bn2)                               [192, 80, 8, 8]      [192, 80, 8, 8]      160                  True\n",
       "│    └─MBConvBlock (7)                                       [192, 80, 8, 8]      [192, 80, 8, 8]      --                   True\n",
       "│    │    └─Conv2dStaticSamePadding (_expand_conv)           [192, 80, 8, 8]      [192, 480, 8, 8]     38,400               True\n",
       "│    │    └─BatchNorm2d (_bn0)                               [192, 480, 8, 8]     [192, 480, 8, 8]     960                  True\n",
       "│    │    └─MemoryEfficientSwish (_swish)                    [192, 480, 8, 8]     [192, 480, 8, 8]     --                   --\n",
       "│    │    └─Conv2dStaticSamePadding (_depthwise_conv)        [192, 480, 8, 8]     [192, 480, 8, 8]     4,320                True\n",
       "│    │    └─BatchNorm2d (_bn1)                               [192, 480, 8, 8]     [192, 480, 8, 8]     960                  True\n",
       "│    │    └─MemoryEfficientSwish (_swish)                    [192, 480, 8, 8]     [192, 480, 8, 8]     --                   --\n",
       "│    │    └─Conv2dStaticSamePadding (_se_reduce)             [192, 480, 1, 1]     [192, 20, 1, 1]      9,620                True\n",
       "│    │    └─MemoryEfficientSwish (_swish)                    [192, 20, 1, 1]      [192, 20, 1, 1]      --                   --\n",
       "│    │    └─Conv2dStaticSamePadding (_se_expand)             [192, 20, 1, 1]      [192, 480, 1, 1]     10,080               True\n",
       "│    │    └─Conv2dStaticSamePadding (_project_conv)          [192, 480, 8, 8]     [192, 80, 8, 8]      38,400               True\n",
       "│    │    └─BatchNorm2d (_bn2)                               [192, 80, 8, 8]      [192, 80, 8, 8]      160                  True\n",
       "│    └─MBConvBlock (8)                                       [192, 80, 8, 8]      [192, 112, 8, 8]     --                   True\n",
       "│    │    └─Conv2dStaticSamePadding (_expand_conv)           [192, 80, 8, 8]      [192, 480, 8, 8]     38,400               True\n",
       "│    │    └─BatchNorm2d (_bn0)                               [192, 480, 8, 8]     [192, 480, 8, 8]     960                  True\n",
       "│    │    └─MemoryEfficientSwish (_swish)                    [192, 480, 8, 8]     [192, 480, 8, 8]     --                   --\n",
       "│    │    └─Conv2dStaticSamePadding (_depthwise_conv)        [192, 480, 8, 8]     [192, 480, 8, 8]     12,000               True\n",
       "│    │    └─BatchNorm2d (_bn1)                               [192, 480, 8, 8]     [192, 480, 8, 8]     960                  True\n",
       "│    │    └─MemoryEfficientSwish (_swish)                    [192, 480, 8, 8]     [192, 480, 8, 8]     --                   --\n",
       "│    │    └─Conv2dStaticSamePadding (_se_reduce)             [192, 480, 1, 1]     [192, 20, 1, 1]      9,620                True\n",
       "│    │    └─MemoryEfficientSwish (_swish)                    [192, 20, 1, 1]      [192, 20, 1, 1]      --                   --\n",
       "│    │    └─Conv2dStaticSamePadding (_se_expand)             [192, 20, 1, 1]      [192, 480, 1, 1]     10,080               True\n",
       "│    │    └─Conv2dStaticSamePadding (_project_conv)          [192, 480, 8, 8]     [192, 112, 8, 8]     53,760               True\n",
       "│    │    └─BatchNorm2d (_bn2)                               [192, 112, 8, 8]     [192, 112, 8, 8]     224                  True\n",
       "│    └─MBConvBlock (9)                                       [192, 112, 8, 8]     [192, 112, 8, 8]     --                   True\n",
       "│    │    └─Conv2dStaticSamePadding (_expand_conv)           [192, 112, 8, 8]     [192, 672, 8, 8]     75,264               True\n",
       "│    │    └─BatchNorm2d (_bn0)                               [192, 672, 8, 8]     [192, 672, 8, 8]     1,344                True\n",
       "│    │    └─MemoryEfficientSwish (_swish)                    [192, 672, 8, 8]     [192, 672, 8, 8]     --                   --\n",
       "│    │    └─Conv2dStaticSamePadding (_depthwise_conv)        [192, 672, 8, 8]     [192, 672, 8, 8]     16,800               True\n",
       "│    │    └─BatchNorm2d (_bn1)                               [192, 672, 8, 8]     [192, 672, 8, 8]     1,344                True\n",
       "│    │    └─MemoryEfficientSwish (_swish)                    [192, 672, 8, 8]     [192, 672, 8, 8]     --                   --\n",
       "│    │    └─Conv2dStaticSamePadding (_se_reduce)             [192, 672, 1, 1]     [192, 28, 1, 1]      18,844               True\n",
       "│    │    └─MemoryEfficientSwish (_swish)                    [192, 28, 1, 1]      [192, 28, 1, 1]      --                   --\n",
       "│    │    └─Conv2dStaticSamePadding (_se_expand)             [192, 28, 1, 1]      [192, 672, 1, 1]     19,488               True\n",
       "│    │    └─Conv2dStaticSamePadding (_project_conv)          [192, 672, 8, 8]     [192, 112, 8, 8]     75,264               True\n",
       "│    │    └─BatchNorm2d (_bn2)                               [192, 112, 8, 8]     [192, 112, 8, 8]     224                  True\n",
       "│    └─MBConvBlock (10)                                      [192, 112, 8, 8]     [192, 112, 8, 8]     --                   True\n",
       "│    │    └─Conv2dStaticSamePadding (_expand_conv)           [192, 112, 8, 8]     [192, 672, 8, 8]     75,264               True\n",
       "│    │    └─BatchNorm2d (_bn0)                               [192, 672, 8, 8]     [192, 672, 8, 8]     1,344                True\n",
       "│    │    └─MemoryEfficientSwish (_swish)                    [192, 672, 8, 8]     [192, 672, 8, 8]     --                   --\n",
       "│    │    └─Conv2dStaticSamePadding (_depthwise_conv)        [192, 672, 8, 8]     [192, 672, 8, 8]     16,800               True\n",
       "│    │    └─BatchNorm2d (_bn1)                               [192, 672, 8, 8]     [192, 672, 8, 8]     1,344                True\n",
       "│    │    └─MemoryEfficientSwish (_swish)                    [192, 672, 8, 8]     [192, 672, 8, 8]     --                   --\n",
       "│    │    └─Conv2dStaticSamePadding (_se_reduce)             [192, 672, 1, 1]     [192, 28, 1, 1]      18,844               True\n",
       "│    │    └─MemoryEfficientSwish (_swish)                    [192, 28, 1, 1]      [192, 28, 1, 1]      --                   --\n",
       "│    │    └─Conv2dStaticSamePadding (_se_expand)             [192, 28, 1, 1]      [192, 672, 1, 1]     19,488               True\n",
       "│    │    └─Conv2dStaticSamePadding (_project_conv)          [192, 672, 8, 8]     [192, 112, 8, 8]     75,264               True\n",
       "│    │    └─BatchNorm2d (_bn2)                               [192, 112, 8, 8]     [192, 112, 8, 8]     224                  True\n",
       "│    └─MBConvBlock (11)                                      [192, 112, 8, 8]     [192, 192, 4, 4]     --                   True\n",
       "│    │    └─Conv2dStaticSamePadding (_expand_conv)           [192, 112, 8, 8]     [192, 672, 8, 8]     75,264               True\n",
       "│    │    └─BatchNorm2d (_bn0)                               [192, 672, 8, 8]     [192, 672, 8, 8]     1,344                True\n",
       "│    │    └─MemoryEfficientSwish (_swish)                    [192, 672, 8, 8]     [192, 672, 8, 8]     --                   --\n",
       "│    │    └─Conv2dStaticSamePadding (_depthwise_conv)        [192, 672, 8, 8]     [192, 672, 4, 4]     16,800               True\n",
       "│    │    └─BatchNorm2d (_bn1)                               [192, 672, 4, 4]     [192, 672, 4, 4]     1,344                True\n",
       "│    │    └─MemoryEfficientSwish (_swish)                    [192, 672, 4, 4]     [192, 672, 4, 4]     --                   --\n",
       "│    │    └─Conv2dStaticSamePadding (_se_reduce)             [192, 672, 1, 1]     [192, 28, 1, 1]      18,844               True\n",
       "│    │    └─MemoryEfficientSwish (_swish)                    [192, 28, 1, 1]      [192, 28, 1, 1]      --                   --\n",
       "│    │    └─Conv2dStaticSamePadding (_se_expand)             [192, 28, 1, 1]      [192, 672, 1, 1]     19,488               True\n",
       "│    │    └─Conv2dStaticSamePadding (_project_conv)          [192, 672, 4, 4]     [192, 192, 4, 4]     129,024              True\n",
       "│    │    └─BatchNorm2d (_bn2)                               [192, 192, 4, 4]     [192, 192, 4, 4]     384                  True\n",
       "│    └─MBConvBlock (12)                                      [192, 192, 4, 4]     [192, 192, 4, 4]     --                   True\n",
       "│    │    └─Conv2dStaticSamePadding (_expand_conv)           [192, 192, 4, 4]     [192, 1152, 4, 4]    221,184              True\n",
       "│    │    └─BatchNorm2d (_bn0)                               [192, 1152, 4, 4]    [192, 1152, 4, 4]    2,304                True\n",
       "│    │    └─MemoryEfficientSwish (_swish)                    [192, 1152, 4, 4]    [192, 1152, 4, 4]    --                   --\n",
       "│    │    └─Conv2dStaticSamePadding (_depthwise_conv)        [192, 1152, 4, 4]    [192, 1152, 4, 4]    28,800               True\n",
       "│    │    └─BatchNorm2d (_bn1)                               [192, 1152, 4, 4]    [192, 1152, 4, 4]    2,304                True\n",
       "│    │    └─MemoryEfficientSwish (_swish)                    [192, 1152, 4, 4]    [192, 1152, 4, 4]    --                   --\n",
       "│    │    └─Conv2dStaticSamePadding (_se_reduce)             [192, 1152, 1, 1]    [192, 48, 1, 1]      55,344               True\n",
       "│    │    └─MemoryEfficientSwish (_swish)                    [192, 48, 1, 1]      [192, 48, 1, 1]      --                   --\n",
       "│    │    └─Conv2dStaticSamePadding (_se_expand)             [192, 48, 1, 1]      [192, 1152, 1, 1]    56,448               True\n",
       "│    │    └─Conv2dStaticSamePadding (_project_conv)          [192, 1152, 4, 4]    [192, 192, 4, 4]     221,184              True\n",
       "│    │    └─BatchNorm2d (_bn2)                               [192, 192, 4, 4]     [192, 192, 4, 4]     384                  True\n",
       "│    └─MBConvBlock (13)                                      [192, 192, 4, 4]     [192, 192, 4, 4]     --                   True\n",
       "│    │    └─Conv2dStaticSamePadding (_expand_conv)           [192, 192, 4, 4]     [192, 1152, 4, 4]    221,184              True\n",
       "│    │    └─BatchNorm2d (_bn0)                               [192, 1152, 4, 4]    [192, 1152, 4, 4]    2,304                True\n",
       "│    │    └─MemoryEfficientSwish (_swish)                    [192, 1152, 4, 4]    [192, 1152, 4, 4]    --                   --\n",
       "│    │    └─Conv2dStaticSamePadding (_depthwise_conv)        [192, 1152, 4, 4]    [192, 1152, 4, 4]    28,800               True\n",
       "│    │    └─BatchNorm2d (_bn1)                               [192, 1152, 4, 4]    [192, 1152, 4, 4]    2,304                True\n",
       "│    │    └─MemoryEfficientSwish (_swish)                    [192, 1152, 4, 4]    [192, 1152, 4, 4]    --                   --\n",
       "│    │    └─Conv2dStaticSamePadding (_se_reduce)             [192, 1152, 1, 1]    [192, 48, 1, 1]      55,344               True\n",
       "│    │    └─MemoryEfficientSwish (_swish)                    [192, 48, 1, 1]      [192, 48, 1, 1]      --                   --\n",
       "│    │    └─Conv2dStaticSamePadding (_se_expand)             [192, 48, 1, 1]      [192, 1152, 1, 1]    56,448               True\n",
       "│    │    └─Conv2dStaticSamePadding (_project_conv)          [192, 1152, 4, 4]    [192, 192, 4, 4]     221,184              True\n",
       "│    │    └─BatchNorm2d (_bn2)                               [192, 192, 4, 4]     [192, 192, 4, 4]     384                  True\n",
       "│    └─MBConvBlock (14)                                      [192, 192, 4, 4]     [192, 192, 4, 4]     --                   True\n",
       "│    │    └─Conv2dStaticSamePadding (_expand_conv)           [192, 192, 4, 4]     [192, 1152, 4, 4]    221,184              True\n",
       "│    │    └─BatchNorm2d (_bn0)                               [192, 1152, 4, 4]    [192, 1152, 4, 4]    2,304                True\n",
       "│    │    └─MemoryEfficientSwish (_swish)                    [192, 1152, 4, 4]    [192, 1152, 4, 4]    --                   --\n",
       "│    │    └─Conv2dStaticSamePadding (_depthwise_conv)        [192, 1152, 4, 4]    [192, 1152, 4, 4]    28,800               True\n",
       "│    │    └─BatchNorm2d (_bn1)                               [192, 1152, 4, 4]    [192, 1152, 4, 4]    2,304                True\n",
       "│    │    └─MemoryEfficientSwish (_swish)                    [192, 1152, 4, 4]    [192, 1152, 4, 4]    --                   --\n",
       "│    │    └─Conv2dStaticSamePadding (_se_reduce)             [192, 1152, 1, 1]    [192, 48, 1, 1]      55,344               True\n",
       "│    │    └─MemoryEfficientSwish (_swish)                    [192, 48, 1, 1]      [192, 48, 1, 1]      --                   --\n",
       "│    │    └─Conv2dStaticSamePadding (_se_expand)             [192, 48, 1, 1]      [192, 1152, 1, 1]    56,448               True\n",
       "│    │    └─Conv2dStaticSamePadding (_project_conv)          [192, 1152, 4, 4]    [192, 192, 4, 4]     221,184              True\n",
       "│    │    └─BatchNorm2d (_bn2)                               [192, 192, 4, 4]     [192, 192, 4, 4]     384                  True\n",
       "│    └─MBConvBlock (15)                                      [192, 192, 4, 4]     [192, 320, 4, 4]     --                   True\n",
       "│    │    └─Conv2dStaticSamePadding (_expand_conv)           [192, 192, 4, 4]     [192, 1152, 4, 4]    221,184              True\n",
       "│    │    └─BatchNorm2d (_bn0)                               [192, 1152, 4, 4]    [192, 1152, 4, 4]    2,304                True\n",
       "│    │    └─MemoryEfficientSwish (_swish)                    [192, 1152, 4, 4]    [192, 1152, 4, 4]    --                   --\n",
       "│    │    └─Conv2dStaticSamePadding (_depthwise_conv)        [192, 1152, 4, 4]    [192, 1152, 4, 4]    10,368               True\n",
       "│    │    └─BatchNorm2d (_bn1)                               [192, 1152, 4, 4]    [192, 1152, 4, 4]    2,304                True\n",
       "│    │    └─MemoryEfficientSwish (_swish)                    [192, 1152, 4, 4]    [192, 1152, 4, 4]    --                   --\n",
       "│    │    └─Conv2dStaticSamePadding (_se_reduce)             [192, 1152, 1, 1]    [192, 48, 1, 1]      55,344               True\n",
       "│    │    └─MemoryEfficientSwish (_swish)                    [192, 48, 1, 1]      [192, 48, 1, 1]      --                   --\n",
       "│    │    └─Conv2dStaticSamePadding (_se_expand)             [192, 48, 1, 1]      [192, 1152, 1, 1]    56,448               True\n",
       "│    │    └─Conv2dStaticSamePadding (_project_conv)          [192, 1152, 4, 4]    [192, 320, 4, 4]     368,640              True\n",
       "│    │    └─BatchNorm2d (_bn2)                               [192, 320, 4, 4]     [192, 320, 4, 4]     640                  True\n",
       "├─Conv2dStaticSamePadding (_conv_head)                       [192, 320, 4, 4]     [192, 1280, 4, 4]    409,600              True\n",
       "│    └─Identity (static_padding)                             [192, 320, 4, 4]     [192, 320, 4, 4]     --                   --\n",
       "├─BatchNorm2d (_bn1)                                         [192, 1280, 4, 4]    [192, 1280, 4, 4]    2,560                True\n",
       "├─MemoryEfficientSwish (_swish)                              [192, 1280, 4, 4]    [192, 1280, 4, 4]    --                   --\n",
       "├─AdaptiveAvgPool2d (_avg_pooling)                           [192, 1280, 4, 4]    [192, 1280, 1, 1]    --                   --\n",
       "├─Dropout (_dropout)                                         [192, 1280]          [192, 1280]          --                   --\n",
       "├─Linear (_fc)                                               [192, 1280]          [192, 29]            37,149               True\n",
       "============================================================================================================================================\n",
       "Total params: 4,044,697\n",
       "Trainable params: 4,044,697\n",
       "Non-trainable params: 0\n",
       "Total mult-adds (M): 15.20\n",
       "============================================================================================================================================\n",
       "Input size (MB): 37.75\n",
       "Forward/backward pass size (MB): 3379.34\n",
       "Params size (MB): 0.32\n",
       "Estimated Total Size (MB): 3417.41\n",
       "============================================================================================================================================"
      ]
     },
     "execution_count": 11,
     "metadata": {},
     "output_type": "execute_result"
    }
   ],
   "source": [
    "from efficientnet_pytorch import EfficientNet\n",
    "from torchinfo import summary\n",
    "\n",
    "num_classes = len(class_names)    # Number of classes\n",
    "\n",
    "# Instantiate the EfficientNet model\n",
    "model = EfficientNet.from_pretrained('efficientnet-b0').to(device)\n",
    "model._fc = nn.Linear(model._fc.in_features, num_classes)  \n",
    "\n",
    "summary(model=model,\n",
    "        input_size=(192, 3, 128, 128),\n",
    "        col_names=[\"input_size\", \"output_size\", \"num_params\", \"trainable\"],\n",
    "        col_width=20,\n",
    "        row_settings=[\"var_names\"])"
   ]
  },
  {
   "cell_type": "markdown",
   "metadata": {},
   "source": [
    "### Load pretrained model"
   ]
  },
  {
   "cell_type": "code",
   "execution_count": 12,
   "metadata": {},
   "outputs": [
    {
     "name": "stdout",
     "output_type": "stream",
     "text": [
      "Loaded pretrained weights for efficientnet-b0\n",
      "Model on device:\n",
      "cpu\n"
     ]
    }
   ],
   "source": [
    "loaded_model = EfficientNet.from_pretrained('efficientnet-b0').to('cpu')\n",
    "loaded_model._fc = nn.Linear(model._fc.in_features, 29)\n",
    "\n",
    "loaded_model.load_state_dict(torch.load(f=MODEL_SAVE_PATH))\n",
    "\n",
    "# print(f\"Loaded model:\\n{loaded_model}\")\n",
    "print(f\"Model on device:\\n{next(loaded_model.parameters()).device}\")"
   ]
  },
  {
   "cell_type": "markdown",
   "metadata": {},
   "source": [
    "### Real-time Testing"
   ]
  },
  {
   "cell_type": "code",
   "execution_count": 13,
   "metadata": {},
   "outputs": [],
   "source": [
    "def make_prediction(model, data, device):\n",
    "  pred_probs = []\n",
    "  model.to(device)\n",
    "  model.eval()\n",
    "  with torch.inference_mode():\n",
    "      sample = data.to(device)  \n",
    "      pred_logit = model(sample.unsqueeze(0))  \n",
    "      pred_prob = torch.softmax(pred_logit.squeeze(), dim=0) \n",
    "      pred_probs.append(pred_prob.cpu())\n",
    "\n",
    "  return torch.stack(pred_probs)"
   ]
  },
  {
   "cell_type": "code",
   "execution_count": 14,
   "metadata": {},
   "outputs": [],
   "source": [
    "def label_extraction(model, img, device='cpu'):   \n",
    "    transformed_img = data_transform(img)\n",
    "\n",
    "    loaded_pred_prob = make_prediction(model,\n",
    "                            transformed_img,\n",
    "                            device)\n",
    "\n",
    "    loaded_pred_class = loaded_pred_prob.argmax(dim = 1)\n",
    "    return class_names[loaded_pred_class]"
   ]
  },
  {
   "cell_type": "code",
   "execution_count": 15,
   "metadata": {},
   "outputs": [
    {
     "name": "stderr",
     "output_type": "stream",
     "text": [
      "c:\\Users\\ASUS\\AppData\\Local\\Programs\\Python\\Python310\\lib\\site-packages\\google\\protobuf\\symbol_database.py:55: UserWarning: SymbolDatabase.GetPrototype() is deprecated. Please use message_factory.GetMessageClass() instead. SymbolDatabase.GetPrototype() will be removed soon.\n",
      "  warnings.warn('SymbolDatabase.GetPrototype() is deprecated. Please '\n"
     ]
    }
   ],
   "source": [
    "cap = cv2.VideoCapture(0)\n",
    "\n",
    "with mp_hands.Hands(min_detection_confidence=0.8, min_tracking_confidence=0.8) as hands:\n",
    "    while cap.isOpened():\n",
    "        data_aux = []\n",
    "        x_ = []\n",
    "        y_ = []\n",
    "\n",
    "        ret, frame = cap.read()\n",
    "        H, W, _ = frame.shape\n",
    "\n",
    "        frame_rgb = cv2.cvtColor(frame, cv2.COLOR_BGR2RGB)\n",
    "        frame_rgb = cv2.flip(frame_rgb, 1)\n",
    "        frame_rgb.flags.writeable = False\n",
    "        results = hands.process(frame_rgb)\n",
    "        frame_rgb.flags.writeable = True\n",
    "        frame_rgb = cv2.cvtColor(frame_rgb, cv2.COLOR_RGB2BGR)\n",
    "        \n",
    "        frame = Image.fromarray(frame_rgb)\n",
    "\n",
    "        if results.multi_hand_landmarks:\n",
    "            for hand_landmarks in results.multi_hand_landmarks:\n",
    "                for i in range(len(hand_landmarks.landmark)):\n",
    "                    x = hand_landmarks.landmark[i].x\n",
    "                    y = hand_landmarks.landmark[i].y\n",
    "                    data_aux.append(x)\n",
    "                    data_aux.append(y)\n",
    "                    x_.append(x)\n",
    "                    y_.append(y)\n",
    "\n",
    "            x1 = int(min(x_) * W) - 10\n",
    "            y1 = int(min(y_) * H) - 10\n",
    "\n",
    "            x2 = int(max(x_) * W) - 10\n",
    "            y2 = int(max(y_) * H) - 10\n",
    "\n",
    "            # Ký hiệu được xuất ra\n",
    "            # prediction = model.predict([np.array(data_aux)[0:42]])[0]\n",
    "            \n",
    "            prediction = label_extraction(loaded_model, frame)\n",
    "\n",
    "            # Hiển thị bounding box và dự đoán ký hiệu\n",
    "            cv2.rectangle(frame_rgb, (x1, y1 - 10), (x2, y2), (255, 99, 173), 6)\n",
    "            cv2.putText(frame_rgb, prediction, (x1, y1), cv2.FONT_HERSHEY_DUPLEX, 5, (255, 0, 0), 5, cv2.LINE_AA)\n",
    "\n",
    "        cv2.imshow('frame', frame_rgb)\n",
    "\n",
    "        if cv2.waitKey(10) & 0xFF == ord('q'):\n",
    "            break\n",
    "\n",
    "cap.release()\n",
    "cv2.destroyAllWindows()\n"
   ]
  },
  {
   "cell_type": "code",
   "execution_count": 5,
   "metadata": {},
   "outputs": [],
   "source": [
    "import cv2\n",
    "import numpy as np\n",
    "from PIL import Image\n",
    "from torchvision import datasets\n",
    "import torchvision.transforms as transforms\n",
    "import torch\n",
    "from torch import nn\n",
    "\n",
    "from efficientnet_pytorch import EfficientNet\n",
    "from torchinfo import summary\n",
    "\n",
    "class_names = np.array(['A', 'B', 'C', 'D', 'E', 'F', 'G', 'H', 'I', 'J', 'K', 'L', 'M',\n",
    "                      'N', 'O', 'P', 'Q', 'R', 'S', 'T', 'U', 'V', 'W', 'X', 'Y', 'Z',\n",
    "                      'del', 'nothing', 'space'])\n",
    "\n",
    "data_transform = transforms.Compose([\n",
    "                transforms.Resize(size = (128, 128)),         # Resize our images to 224x224\n",
    "                transforms.ToTensor()\n",
    "            ])\n",
    "\n",
    "\n",
    "def create_model():\n",
    "    model = EfficientNet.from_pretrained('efficientnet-b0')\n",
    "    model._fc = nn.Linear(model._fc.in_features, len(class_names))\n",
    "    model.load_state_dict(torch.load(f=\"./models/ASL_HandSignLang_EfficientNetB0.pth\", map_location=torch.device('cpu')))\n",
    "    model.eval()\n",
    "    return model\n",
    "\n",
    "def predict(model, img):\n",
    "    img = data_transform(img).unsqueeze(0)\n",
    "    with torch.no_grad():\n",
    "        outputs = model(img)\n",
    "    result = {}\n",
    "    for idx in torch.topk(outputs, k=5).indices.squeeze(0).tolist():\n",
    "        prob = torch.softmax(outputs, dim=1)[0, idx].item()\n",
    "        result[class_names[idx]] = prob*100\n",
    "        print('{label:<75} ({p:.2f}%)'.format(label=class_names[idx], p=prob*100))\n",
    "    return result"
   ]
  },
  {
   "cell_type": "code",
   "execution_count": 6,
   "metadata": {},
   "outputs": [
    {
     "name": "stdout",
     "output_type": "stream",
     "text": [
      "Loaded pretrained weights for efficientnet-b0\n"
     ]
    }
   ],
   "source": [
    "model = create_model()"
   ]
  },
  {
   "cell_type": "code",
   "execution_count": 8,
   "metadata": {},
   "outputs": [
    {
     "name": "stdout",
     "output_type": "stream",
     "text": [
      "A                                                                           (100.00%)\n",
      "T                                                                           (0.00%)\n",
      "Y                                                                           (0.00%)\n",
      "M                                                                           (0.00%)\n",
      "S                                                                           (0.00%)\n"
     ]
    }
   ],
   "source": [
    "image = Image.open(\"asl-dataset\\Test\\A_test.jpg\")\n",
    "result = predict(model, image)"
   ]
  },
  {
   "cell_type": "code",
   "execution_count": 16,
   "metadata": {},
   "outputs": [],
   "source": [
    "def predict(model, img, device='cpu'):\n",
    "    transformed_img = data_transform(img)\n",
    "\n",
    "    model.to(device)\n",
    "    \n",
    "    with torch.inference_mode():\n",
    "        sample = transformed_img.to(device).unsqueeze(0)\n",
    "        \n",
    "        pred_logit = model(sample)\n",
    "        pred_prob = torch.softmax(pred_logit.squeeze(), dim=0)\n",
    "        \n",
    "        loaded_pred_class = pred_prob.argmax().item()\n",
    "        \n",
    "    return class_names[loaded_pred_class]"
   ]
  },
  {
   "cell_type": "code",
   "execution_count": 24,
   "metadata": {},
   "outputs": [
    {
     "data": {
      "text/plain": [
       "'P'"
      ]
     },
     "execution_count": 24,
     "metadata": {},
     "output_type": "execute_result"
    }
   ],
   "source": [
    "image = Image.open(\"asl-dataset\\Test/3004.jpg\")\n",
    "result = predict(model, image)\n",
    "result"
   ]
  },
  {
   "cell_type": "code",
   "execution_count": null,
   "metadata": {},
   "outputs": [],
   "source": [
    "def label_extraction(model, img, device='cpu'):   \n",
    "    transformed_img = data_transform(img)\n",
    "\n",
    "    loaded_pred_prob = make_prediction(model,\n",
    "                            transformed_img,\n",
    "                            device)\n",
    "\n",
    "    loaded_pred_class = loaded_pred_prob.argmax(dim = 1)\n",
    "    return class_names[loaded_pred_class]"
   ]
  }
 ],
 "metadata": {
  "kernelspec": {
   "display_name": "Python 3",
   "language": "python",
   "name": "python3"
  },
  "language_info": {
   "codemirror_mode": {
    "name": "ipython",
    "version": 3
   },
   "file_extension": ".py",
   "mimetype": "text/x-python",
   "name": "python",
   "nbconvert_exporter": "python",
   "pygments_lexer": "ipython3",
   "version": "3.10.7"
  }
 },
 "nbformat": 4,
 "nbformat_minor": 2
}
